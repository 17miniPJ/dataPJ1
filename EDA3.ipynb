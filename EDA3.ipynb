{
 "cells": [
  {
   "cell_type": "code",
   "execution_count": 3,
   "metadata": {},
   "outputs": [],
   "source": [
    "import numpy as np\n",
    "import pandas as pd # 파일 처리 관련\n",
    "import os\n",
    "import re # 정규 표현식\n",
    "import string\n",
    "\n",
    "import matplotlib as mpl  # 기본 설정 만지는 용도\n",
    "import matplotlib.pyplot as plt  # 그래프 그리는 용도\n",
    "# 그래프를 이쁘게 그리기 위한 코드\n",
    "%matplotlib inline  \n",
    "import seaborn as sns\n",
    "import platform\n",
    "from matplotlib import font_manager, rc\n",
    "\n",
    "# 운영체제별 글꼴 세팅\n",
    "path = \"c:/Windows/Fonts/malgun.ttf\"\n",
    "if platform.system() == 'Darwin':\n",
    "    rc('font', family='AppleGothic')\n",
    "elif platform.system() == 'Windows':\n",
    "    font_name = font_manager.FontProperties(fname=path).get_name()\n",
    "    rc('font', family=font_name)\n",
    "else:\n",
    "    font_name = font_manager.FontProperties(fname=\"/usr/share/fonts/nanumfont/NanumGothic.ttf\")\n",
    "    rc('font', family=\"NanumGothic\")"
   ]
  },
  {
   "cell_type": "code",
   "execution_count": 4,
   "metadata": {},
   "outputs": [
    {
     "data": {
      "text/html": [
       "<div>\n",
       "<style scoped>\n",
       "    .dataframe tbody tr th:only-of-type {\n",
       "        vertical-align: middle;\n",
       "    }\n",
       "\n",
       "    .dataframe tbody tr th {\n",
       "        vertical-align: top;\n",
       "    }\n",
       "\n",
       "    .dataframe thead th {\n",
       "        text-align: right;\n",
       "    }\n",
       "</style>\n",
       "<table border=\"1\" class=\"dataframe\">\n",
       "  <thead>\n",
       "    <tr style=\"text-align: right;\">\n",
       "      <th></th>\n",
       "      <th>거래id</th>\n",
       "      <th>유형</th>\n",
       "      <th>고객id</th>\n",
       "      <th>코스ID</th>\n",
       "      <th>사이트</th>\n",
       "      <th>포맷</th>\n",
       "      <th>카테고리</th>\n",
       "      <th>코스(상품) 이름</th>\n",
       "      <th>거래일자</th>\n",
       "      <th>쿠폰이름</th>\n",
       "      <th>판매가격</th>\n",
       "      <th>결제수단</th>\n",
       "      <th>실거래금액</th>\n",
       "      <th>쿠폰할인액</th>\n",
       "      <th>거래금액</th>\n",
       "      <th>환불금액</th>\n",
       "    </tr>\n",
       "  </thead>\n",
       "  <tbody>\n",
       "    <tr>\n",
       "      <th>0</th>\n",
       "      <td>2417084</td>\n",
       "      <td>PAYMENT</td>\n",
       "      <td>20053</td>\n",
       "      <td>209016</td>\n",
       "      <td>FASTCAMPUS</td>\n",
       "      <td>올인원</td>\n",
       "      <td>업무 생산성</td>\n",
       "      <td>올인원 패키지 : 김왼손의 파이썬 업무자동화 유치원</td>\n",
       "      <td>2022. 12. 31. 오후 10:12:33</td>\n",
       "      <td>-</td>\n",
       "      <td>189000</td>\n",
       "      <td>TRANSFER</td>\n",
       "      <td>159000</td>\n",
       "      <td>-</td>\n",
       "      <td>159000</td>\n",
       "      <td>-</td>\n",
       "    </tr>\n",
       "    <tr>\n",
       "      <th>1</th>\n",
       "      <td>2415408</td>\n",
       "      <td>PAYMENT</td>\n",
       "      <td>58309</td>\n",
       "      <td>210664</td>\n",
       "      <td>FASTCAMPUS</td>\n",
       "      <td>올인원</td>\n",
       "      <td>부동산/금융</td>\n",
       "      <td>초격차 패키지 : 한 번에 끝내는 부동산 금융(PF) 실무</td>\n",
       "      <td>2022. 12. 30. 오후 6:12:57</td>\n",
       "      <td>-</td>\n",
       "      <td>501000</td>\n",
       "      <td>TRANSFER</td>\n",
       "      <td>501000</td>\n",
       "      <td>-</td>\n",
       "      <td>501000</td>\n",
       "      <td>-</td>\n",
       "    </tr>\n",
       "    <tr>\n",
       "      <th>2</th>\n",
       "      <td>2413897</td>\n",
       "      <td>PAYMENT</td>\n",
       "      <td>18075</td>\n",
       "      <td>211782</td>\n",
       "      <td>FASTCAMPUS</td>\n",
       "      <td>올인원</td>\n",
       "      <td>영상/3D</td>\n",
       "      <td>편집하는여자의 영상편집 마스터클래스 - 제 6강 다양한 효과를 응용하여 애프터이펙트...</td>\n",
       "      <td>2022. 12. 31. 오후 11:12:15</td>\n",
       "      <td>-</td>\n",
       "      <td>549000</td>\n",
       "      <td>CARD</td>\n",
       "      <td>549000</td>\n",
       "      <td>-</td>\n",
       "      <td>549000</td>\n",
       "      <td>-</td>\n",
       "    </tr>\n",
       "    <tr>\n",
       "      <th>3</th>\n",
       "      <td>2413891</td>\n",
       "      <td>PAYMENT</td>\n",
       "      <td>41898</td>\n",
       "      <td>213450</td>\n",
       "      <td>FASTCAMPUS</td>\n",
       "      <td>올인원</td>\n",
       "      <td>프로그래밍</td>\n",
       "      <td>초격차 패키지 : 35개 프로젝트로 배우는 Android 앱 개발 feat. Jet...</td>\n",
       "      <td>2022. 12. 31. 오후 11:12:03</td>\n",
       "      <td>[WELCOME] 프로그래밍 3만원할인</td>\n",
       "      <td>165000</td>\n",
       "      <td>CARD</td>\n",
       "      <td>135000</td>\n",
       "      <td>30000</td>\n",
       "      <td>135000</td>\n",
       "      <td>-</td>\n",
       "    </tr>\n",
       "    <tr>\n",
       "      <th>4</th>\n",
       "      <td>2413887</td>\n",
       "      <td>PAYMENT</td>\n",
       "      <td>94328</td>\n",
       "      <td>210773</td>\n",
       "      <td>FASTCAMPUS</td>\n",
       "      <td>올인원</td>\n",
       "      <td>프로그래밍</td>\n",
       "      <td>초격차 패키지 : 개발자 취업 합격 패스 With 코딩테스트, 기술면접</td>\n",
       "      <td>2022. 12. 31. 오후 11:12:10</td>\n",
       "      <td>-</td>\n",
       "      <td>239000</td>\n",
       "      <td>CARD</td>\n",
       "      <td>239000</td>\n",
       "      <td>-</td>\n",
       "      <td>239000</td>\n",
       "      <td>-</td>\n",
       "    </tr>\n",
       "    <tr>\n",
       "      <th>...</th>\n",
       "      <td>...</td>\n",
       "      <td>...</td>\n",
       "      <td>...</td>\n",
       "      <td>...</td>\n",
       "      <td>...</td>\n",
       "      <td>...</td>\n",
       "      <td>...</td>\n",
       "      <td>...</td>\n",
       "      <td>...</td>\n",
       "      <td>...</td>\n",
       "      <td>...</td>\n",
       "      <td>...</td>\n",
       "      <td>...</td>\n",
       "      <td>...</td>\n",
       "      <td>...</td>\n",
       "      <td>...</td>\n",
       "    </tr>\n",
       "    <tr>\n",
       "      <th>159323</th>\n",
       "      <td>1551424</td>\n",
       "      <td>PAYMENT</td>\n",
       "      <td>39658</td>\n",
       "      <td>204491</td>\n",
       "      <td>FASTCAMPUS</td>\n",
       "      <td>올인원</td>\n",
       "      <td>부업/창업</td>\n",
       "      <td>올인원 패키지 : 제 2의 월급을 만들어주는 직장인 스몰비즈니스 가이드</td>\n",
       "      <td>2022. 1. 1. 오전 12:01:08</td>\n",
       "      <td>[NEW22] 온라인 강의 1만원 즉시 추가 할인 쿠폰</td>\n",
       "      <td>217000</td>\n",
       "      <td>CARD</td>\n",
       "      <td>207000</td>\n",
       "      <td>10000</td>\n",
       "      <td>207000</td>\n",
       "      <td>-</td>\n",
       "    </tr>\n",
       "    <tr>\n",
       "      <th>159324</th>\n",
       "      <td>1551410</td>\n",
       "      <td>PAYMENT</td>\n",
       "      <td>95136</td>\n",
       "      <td>206811</td>\n",
       "      <td>FASTCAMPUS</td>\n",
       "      <td>올인원</td>\n",
       "      <td>영상/3D</td>\n",
       "      <td>[Kit] 닷밀의 미디어아트 그래픽 클래스 : 모션그래픽 뉴패러다임 Creative...</td>\n",
       "      <td>2022. 1. 1. 오전 12:01:12</td>\n",
       "      <td>-</td>\n",
       "      <td>385000</td>\n",
       "      <td>CARD</td>\n",
       "      <td>385000</td>\n",
       "      <td>-</td>\n",
       "      <td>385000</td>\n",
       "      <td>-</td>\n",
       "    </tr>\n",
       "    <tr>\n",
       "      <th>159325</th>\n",
       "      <td>1551361</td>\n",
       "      <td>PAYMENT</td>\n",
       "      <td>12764</td>\n",
       "      <td>202927</td>\n",
       "      <td>FASTCAMPUS</td>\n",
       "      <td>올인원</td>\n",
       "      <td>데이터 사이언스</td>\n",
       "      <td>올인원 패키지 : 파이썬을 활용한 데이터 전처리 Level UP</td>\n",
       "      <td>2022. 1. 1. 오전 12:01:21</td>\n",
       "      <td>[WELCOME] 패캠은 처음이지? 3만원 할인쿠폰</td>\n",
       "      <td>166000</td>\n",
       "      <td>CARD</td>\n",
       "      <td>136000</td>\n",
       "      <td>30000</td>\n",
       "      <td>136000</td>\n",
       "      <td>-</td>\n",
       "    </tr>\n",
       "    <tr>\n",
       "      <th>159326</th>\n",
       "      <td>1545070</td>\n",
       "      <td>PAYMENT</td>\n",
       "      <td>19606</td>\n",
       "      <td>208104</td>\n",
       "      <td>FASTCAMPUS</td>\n",
       "      <td>올인원</td>\n",
       "      <td>업무 생산성</td>\n",
       "      <td>올인원 패키지 : 100억을 움직이는 50가지 PPT 디자인 원칙</td>\n",
       "      <td>2022. 1. 2. 오전 11:01:24</td>\n",
       "      <td>-</td>\n",
       "      <td>289000</td>\n",
       "      <td>VBANK</td>\n",
       "      <td>289000</td>\n",
       "      <td>-</td>\n",
       "      <td>289000</td>\n",
       "      <td>-</td>\n",
       "    </tr>\n",
       "    <tr>\n",
       "      <th>159327</th>\n",
       "      <td>1486194</td>\n",
       "      <td>REFUND</td>\n",
       "      <td>62567</td>\n",
       "      <td>207488</td>\n",
       "      <td>FASTCAMPUS</td>\n",
       "      <td>올인원</td>\n",
       "      <td>데이터 사이언스</td>\n",
       "      <td>올인원 패키지 : 머신러닝 서비스 구축을 위한 실전 MLOps</td>\n",
       "      <td>2022. 1. 24. 오전 4:01:00</td>\n",
       "      <td>-</td>\n",
       "      <td>370000</td>\n",
       "      <td>TRANSFER</td>\n",
       "      <td>-345240</td>\n",
       "      <td>-</td>\n",
       "      <td>-</td>\n",
       "      <td>-345240</td>\n",
       "    </tr>\n",
       "  </tbody>\n",
       "</table>\n",
       "<p>159328 rows × 16 columns</p>\n",
       "</div>"
      ],
      "text/plain": [
       "           거래id       유형   고객id    코스ID         사이트   포맷      카테고리  \\\n",
       "0       2417084  PAYMENT  20053  209016  FASTCAMPUS  올인원    업무 생산성   \n",
       "1       2415408  PAYMENT  58309  210664  FASTCAMPUS  올인원    부동산/금융   \n",
       "2       2413897  PAYMENT  18075  211782  FASTCAMPUS  올인원     영상/3D   \n",
       "3       2413891  PAYMENT  41898  213450  FASTCAMPUS  올인원     프로그래밍   \n",
       "4       2413887  PAYMENT  94328  210773  FASTCAMPUS  올인원     프로그래밍   \n",
       "...         ...      ...    ...     ...         ...  ...       ...   \n",
       "159323  1551424  PAYMENT  39658  204491  FASTCAMPUS  올인원     부업/창업   \n",
       "159324  1551410  PAYMENT  95136  206811  FASTCAMPUS  올인원     영상/3D   \n",
       "159325  1551361  PAYMENT  12764  202927  FASTCAMPUS  올인원  데이터 사이언스   \n",
       "159326  1545070  PAYMENT  19606  208104  FASTCAMPUS  올인원    업무 생산성   \n",
       "159327  1486194   REFUND  62567  207488  FASTCAMPUS  올인원  데이터 사이언스   \n",
       "\n",
       "                                                코스(상품) 이름  \\\n",
       "0                            올인원 패키지 : 김왼손의 파이썬 업무자동화 유치원   \n",
       "1                        초격차 패키지 : 한 번에 끝내는 부동산 금융(PF) 실무   \n",
       "2       편집하는여자의 영상편집 마스터클래스 - 제 6강 다양한 효과를 응용하여 애프터이펙트...   \n",
       "3       초격차 패키지 : 35개 프로젝트로 배우는 Android 앱 개발 feat. Jet...   \n",
       "4                 초격차 패키지 : 개발자 취업 합격 패스 With 코딩테스트, 기술면접   \n",
       "...                                                   ...   \n",
       "159323            올인원 패키지 : 제 2의 월급을 만들어주는 직장인 스몰비즈니스 가이드   \n",
       "159324  [Kit] 닷밀의 미디어아트 그래픽 클래스 : 모션그래픽 뉴패러다임 Creative...   \n",
       "159325                올인원 패키지 : 파이썬을 활용한 데이터 전처리 Level UP   \n",
       "159326               올인원 패키지 : 100억을 움직이는 50가지 PPT 디자인 원칙   \n",
       "159327                 올인원 패키지 : 머신러닝 서비스 구축을 위한 실전 MLOps   \n",
       "\n",
       "                             거래일자                            쿠폰이름    판매가격  \\\n",
       "0       2022. 12. 31. 오후 10:12:33                               -  189000   \n",
       "1        2022. 12. 30. 오후 6:12:57                               -  501000   \n",
       "2       2022. 12. 31. 오후 11:12:15                               -  549000   \n",
       "3       2022. 12. 31. 오후 11:12:03           [WELCOME] 프로그래밍 3만원할인  165000   \n",
       "4       2022. 12. 31. 오후 11:12:10                               -  239000   \n",
       "...                           ...                             ...     ...   \n",
       "159323    2022. 1. 1. 오전 12:01:08  [NEW22] 온라인 강의 1만원 즉시 추가 할인 쿠폰  217000   \n",
       "159324    2022. 1. 1. 오전 12:01:12                               -  385000   \n",
       "159325    2022. 1. 1. 오전 12:01:21    [WELCOME] 패캠은 처음이지? 3만원 할인쿠폰  166000   \n",
       "159326    2022. 1. 2. 오전 11:01:24                               -  289000   \n",
       "159327    2022. 1. 24. 오전 4:01:00                               -  370000   \n",
       "\n",
       "            결제수단   실거래금액  쿠폰할인액    거래금액     환불금액  \n",
       "0       TRANSFER  159000      -  159000        -  \n",
       "1       TRANSFER  501000      -  501000        -  \n",
       "2           CARD  549000      -  549000        -  \n",
       "3           CARD  135000  30000  135000        -  \n",
       "4           CARD  239000      -  239000        -  \n",
       "...          ...     ...    ...     ...      ...  \n",
       "159323      CARD  207000  10000  207000        -  \n",
       "159324      CARD  385000      -  385000        -  \n",
       "159325      CARD  136000  30000  136000        -  \n",
       "159326     VBANK  289000      -  289000        -  \n",
       "159327  TRANSFER -345240      -       -  -345240  \n",
       "\n",
       "[159328 rows x 16 columns]"
      ]
     },
     "execution_count": 4,
     "metadata": {},
     "output_type": "execute_result"
    }
   ],
   "source": [
    "df = pd.read_csv('./data/eda-proj-fc-purchase.csv')\n",
    "df"
   ]
  },
  {
   "cell_type": "code",
   "execution_count": 3,
   "metadata": {},
   "outputs": [
    {
     "name": "stdout",
     "output_type": "stream",
     "text": [
      "<class 'pandas.core.frame.DataFrame'>\n",
      "RangeIndex: 159328 entries, 0 to 159327\n",
      "Data columns (total 16 columns):\n",
      " #   Column     Non-Null Count   Dtype \n",
      "---  ------     --------------   ----- \n",
      " 0   거래id       159328 non-null  int64 \n",
      " 1   유형         159328 non-null  object\n",
      " 2   고객id       159328 non-null  int64 \n",
      " 3   코스ID       159328 non-null  int64 \n",
      " 4   사이트        159328 non-null  object\n",
      " 5   포맷         159328 non-null  object\n",
      " 6   카테고리       159328 non-null  object\n",
      " 7   코스(상품) 이름  159328 non-null  object\n",
      " 8   거래일자       159328 non-null  object\n",
      " 9   쿠폰이름       159328 non-null  object\n",
      " 10  판매가격       159328 non-null  object\n",
      " 11  결제수단       159328 non-null  object\n",
      " 12  실거래금액      159328 non-null  int64 \n",
      " 13  쿠폰할인액      159328 non-null  object\n",
      " 14  거래금액       159328 non-null  object\n",
      " 15  환불금액       159328 non-null  object\n",
      "dtypes: int64(4), object(12)\n",
      "memory usage: 19.4+ MB\n"
     ]
    }
   ],
   "source": [
    "df.info()"
   ]
  },
  {
   "cell_type": "code",
   "execution_count": 4,
   "metadata": {},
   "outputs": [
    {
     "data": {
      "text/plain": [
       "거래id         159328\n",
       "유형                2\n",
       "고객id          79615\n",
       "코스ID            407\n",
       "사이트               1\n",
       "포맷                2\n",
       "카테고리             11\n",
       "코스(상품) 이름       407\n",
       "거래일자         121645\n",
       "쿠폰이름           1227\n",
       "판매가격            625\n",
       "결제수단              6\n",
       "실거래금액          3366\n",
       "쿠폰할인액          1201\n",
       "거래금액           1606\n",
       "환불금액           1763\n",
       "dtype: int64"
      ]
     },
     "execution_count": 4,
     "metadata": {},
     "output_type": "execute_result"
    }
   ],
   "source": [
    "df.nunique()"
   ]
  },
  {
   "cell_type": "code",
   "execution_count": 5,
   "metadata": {},
   "outputs": [
    {
     "data": {
      "text/html": [
       "<div>\n",
       "<style scoped>\n",
       "    .dataframe tbody tr th:only-of-type {\n",
       "        vertical-align: middle;\n",
       "    }\n",
       "\n",
       "    .dataframe tbody tr th {\n",
       "        vertical-align: top;\n",
       "    }\n",
       "\n",
       "    .dataframe thead th {\n",
       "        text-align: right;\n",
       "    }\n",
       "</style>\n",
       "<table border=\"1\" class=\"dataframe\">\n",
       "  <thead>\n",
       "    <tr style=\"text-align: right;\">\n",
       "      <th></th>\n",
       "      <th>거래id</th>\n",
       "      <th>고객id</th>\n",
       "      <th>코스ID</th>\n",
       "      <th>실거래금액</th>\n",
       "    </tr>\n",
       "  </thead>\n",
       "  <tbody>\n",
       "    <tr>\n",
       "      <th>count</th>\n",
       "      <td>1.593280e+05</td>\n",
       "      <td>159328.000000</td>\n",
       "      <td>159328.000000</td>\n",
       "      <td>1.593280e+05</td>\n",
       "    </tr>\n",
       "    <tr>\n",
       "      <th>mean</th>\n",
       "      <td>1.968703e+06</td>\n",
       "      <td>50061.549903</td>\n",
       "      <td>207679.355123</td>\n",
       "      <td>1.418337e+05</td>\n",
       "    </tr>\n",
       "    <tr>\n",
       "      <th>std</th>\n",
       "      <td>2.516892e+05</td>\n",
       "      <td>28850.738273</td>\n",
       "      <td>3541.408820</td>\n",
       "      <td>1.397796e+05</td>\n",
       "    </tr>\n",
       "    <tr>\n",
       "      <th>min</th>\n",
       "      <td>1.486194e+06</td>\n",
       "      <td>0.000000</td>\n",
       "      <td>2204.000000</td>\n",
       "      <td>-1.054400e+06</td>\n",
       "    </tr>\n",
       "    <tr>\n",
       "      <th>25%</th>\n",
       "      <td>1.743640e+06</td>\n",
       "      <td>25081.500000</td>\n",
       "      <td>204373.000000</td>\n",
       "      <td>7.800000e+04</td>\n",
       "    </tr>\n",
       "    <tr>\n",
       "      <th>50%</th>\n",
       "      <td>1.971748e+06</td>\n",
       "      <td>50082.500000</td>\n",
       "      <td>207161.000000</td>\n",
       "      <td>1.620000e+05</td>\n",
       "    </tr>\n",
       "    <tr>\n",
       "      <th>75%</th>\n",
       "      <td>2.188854e+06</td>\n",
       "      <td>75071.000000</td>\n",
       "      <td>210796.000000</td>\n",
       "      <td>2.176000e+05</td>\n",
       "    </tr>\n",
       "    <tr>\n",
       "      <th>max</th>\n",
       "      <td>2.417084e+06</td>\n",
       "      <td>99999.000000</td>\n",
       "      <td>214834.000000</td>\n",
       "      <td>1.339200e+06</td>\n",
       "    </tr>\n",
       "  </tbody>\n",
       "</table>\n",
       "</div>"
      ],
      "text/plain": [
       "               거래id           고객id           코스ID         실거래금액\n",
       "count  1.593280e+05  159328.000000  159328.000000  1.593280e+05\n",
       "mean   1.968703e+06   50061.549903  207679.355123  1.418337e+05\n",
       "std    2.516892e+05   28850.738273    3541.408820  1.397796e+05\n",
       "min    1.486194e+06       0.000000    2204.000000 -1.054400e+06\n",
       "25%    1.743640e+06   25081.500000  204373.000000  7.800000e+04\n",
       "50%    1.971748e+06   50082.500000  207161.000000  1.620000e+05\n",
       "75%    2.188854e+06   75071.000000  210796.000000  2.176000e+05\n",
       "max    2.417084e+06   99999.000000  214834.000000  1.339200e+06"
      ]
     },
     "execution_count": 5,
     "metadata": {},
     "output_type": "execute_result"
    }
   ],
   "source": [
    "df.describe()"
   ]
  },
  {
   "cell_type": "code",
   "execution_count": 6,
   "metadata": {},
   "outputs": [
    {
     "data": {
      "text/plain": [
       "Index(['거래id', '유형', '고객id', '코스ID', '사이트', '포맷', '카테고리', '코스(상품) 이름', '거래일자',\n",
       "       '쿠폰이름', '판매가격', '결제수단', '실거래금액', '쿠폰할인액', '거래금액', '환불금액'],\n",
       "      dtype='object')"
      ]
     },
     "execution_count": 6,
     "metadata": {},
     "output_type": "execute_result"
    }
   ],
   "source": [
    "#df.index\n",
    "df.columns"
   ]
  },
  {
   "cell_type": "code",
   "execution_count": 7,
   "metadata": {},
   "outputs": [
    {
     "data": {
      "text/plain": [
       "22598072083"
      ]
     },
     "execution_count": 7,
     "metadata": {},
     "output_type": "execute_result"
    }
   ],
   "source": [
    "# 전체 매출\n",
    "df['실거래금액'].astype('int32').sum()"
   ]
  },
  {
   "cell_type": "code",
   "execution_count": 8,
   "metadata": {},
   "outputs": [
    {
     "data": {
      "text/plain": [
       "0         12\n",
       "1         12\n",
       "2         12\n",
       "3         12\n",
       "4         12\n",
       "          ..\n",
       "159323     1\n",
       "159324     1\n",
       "159325     1\n",
       "159326     1\n",
       "159327     1\n",
       "Name: 거래월, Length: 159328, dtype: object"
      ]
     },
     "execution_count": 8,
     "metadata": {},
     "output_type": "execute_result"
    }
   ],
   "source": [
    "# 거래월만 따로 빼기\n",
    "df['거래월'] = df['거래일자'].str.split('. ').str[1]\n",
    "df['거래월']"
   ]
  },
  {
   "cell_type": "code",
   "execution_count": 9,
   "metadata": {},
   "outputs": [
    {
     "data": {
      "text/plain": [
       "0         12\n",
       "1         12\n",
       "2         12\n",
       "3         12\n",
       "4         12\n",
       "          ..\n",
       "159323     1\n",
       "159324     1\n",
       "159325     1\n",
       "159326     1\n",
       "159327     1\n",
       "Name: 거래월, Length: 159328, dtype: Int32"
      ]
     },
     "execution_count": 9,
     "metadata": {},
     "output_type": "execute_result"
    }
   ],
   "source": [
    "# 거래월 형변환\n",
    "df['거래월'] = df['거래월'].astype('Int32')\n",
    "df['거래월']"
   ]
  },
  {
   "cell_type": "code",
   "execution_count": 12,
   "metadata": {},
   "outputs": [
    {
     "data": {
      "text/plain": [
       "거래월\n",
       "1     2423967400\n",
       "2     1882360617\n",
       "3     1672259402\n",
       "4     1455331416\n",
       "5     1286720924\n",
       "6     1847224049\n",
       "7     2031414186\n",
       "8     2128556305\n",
       "9     2021160136\n",
       "10    1826467659\n",
       "11    1812866340\n",
       "12    2209743649\n",
       "Name: 실거래금액, dtype: int64"
      ]
     },
     "execution_count": 12,
     "metadata": {},
     "output_type": "execute_result"
    }
   ],
   "source": [
    "df.groupby(['거래월'])['실거래금액'].sum()"
   ]
  },
  {
   "cell_type": "code",
   "execution_count": 17,
   "metadata": {},
   "outputs": [
    {
     "data": {
      "image/png": "[encoded data removed]",
      "text/plain": [
       "<Figure size 640x480 with 1 Axes>"
      ]
     },
     "metadata": {},
     "output_type": "display_data"
    }
   ],
   "source": [
    "# 거래월로 groupby후 월별 매출합계 시각화\n",
    "df.groupby(['거래월'])['실거래금액'].sum().plot.bar()\n",
    "plt.title('2022년 월별 매출액')\n",
    "plt.legend()\n",
    "plt.xticks(fontsize=10, rotation=0)\n",
    "plt.show()"
   ]
  },
  {
   "cell_type": "code",
   "execution_count": 16,
   "metadata": {},
   "outputs": [
    {
     "data": {
      "text/plain": [
       "0         2022. 12. 31. 오후 10:12:33\n",
       "1          2022. 12. 30. 오후 6:12:57\n",
       "2         2022. 12. 31. 오후 11:12:15\n",
       "3         2022. 12. 31. 오후 11:12:03\n",
       "4         2022. 12. 31. 오후 11:12:10\n",
       "                    ...            \n",
       "159323      2022. 1. 1. 오전 12:01:08\n",
       "159324      2022. 1. 1. 오전 12:01:12\n",
       "159325      2022. 1. 1. 오전 12:01:21\n",
       "159326      2022. 1. 2. 오전 11:01:24\n",
       "159327      2022. 1. 24. 오전 4:01:00\n",
       "Name: 거래일자, Length: 159328, dtype: object"
      ]
     },
     "execution_count": 16,
     "metadata": {},
     "output_type": "execute_result"
    }
   ],
   "source": [
    "df.거래일자"
   ]
  },
  {
   "cell_type": "code",
   "execution_count": 15,
   "metadata": {},
   "outputs": [
    {
     "name": "stdout",
     "output_type": "stream",
     "text": [
      "0         Saturday\n",
      "1           Friday\n",
      "2         Saturday\n",
      "3         Saturday\n",
      "4         Saturday\n",
      "            ...   \n",
      "159323    Saturday\n",
      "159324    Saturday\n",
      "159325    Saturday\n",
      "159326      Sunday\n",
      "159327      Monday\n",
      "Name: day_name, Length: 159328, dtype: object\n"
     ]
    }
   ],
   "source": [
    "date_time_format = []\n",
    "for i in df.거래일자:\n",
    "    strs = i.split(\" \")\n",
    "    #print(strs)\n",
    "    strs_date = \"\"\n",
    "     \n",
    "    for j in range(3):\n",
    "        strs[j] = strs[j].replace(\".\",\"\")\n",
    "        strs_date = strs_date + strs[j] + \"-\"        \n",
    "    strs_date = strs_date[:-1]\n",
    "    #print(strs_date)\n",
    "    \n",
    "    if strs[3] == '오후':\n",
    "        strs_s = strs[4].split(\":\")\n",
    "        if strs_s[0] != '12':\n",
    "            strs_s[0] =int(strs_s[0]) + 12\n",
    "            strs_s_time = str(strs_s[0])+\":\"+strs_s[1]+\":\"+strs_s[2]\n",
    "        #print(strs_s_time)\n",
    "        \n",
    "    strs_date = strs_date +\" \"+ strs_s_time\n",
    "    #print(strs_date)\n",
    "    date_time_format.append(strs_date)\n",
    "#date_time_foramt : pd_to_datetime을 사용하기 위해 정규화    \n",
    "df['date_time_format'] = date_time_format\n",
    "#df['date_time_format'].head(5)\n",
    "\n",
    "#요일별 이름 출력 (영문)\n",
    "df['day_name'] = pd.to_datetime(df['date_time_format'],format='%Y-%m-%d %H:%M:%S', errors='raise')\n",
    "#print(df['day_name'].dt.day_name())"
   ]
  },
  {
   "cell_type": "code",
   "execution_count": null,
   "metadata": {},
   "outputs": [
    {
     "data": {
      "text/plain": [
       "2022-1-3 13:01:11      870\n",
       "2022-1-7 13:01:35      558\n",
       "2022-2-28 13:02:41     467\n",
       "2022-7-18 13:07:17     451\n",
       "2022-4-4 13:04:21      430\n",
       "                      ... \n",
       "2022-7-17 23:07:26       1\n",
       "2022-7-17 23:07:03       1\n",
       "2022-11-15 14:11:05      1\n",
       "2022-7-17 23:07:12       1\n",
       "2022-1-24 13:01:44       1\n",
       "Name: date_time_format, Length: 78777, dtype: int64"
      ]
     },
     "execution_count": 23,
     "metadata": {},
     "output_type": "execute_result"
    }
   ],
   "source": [
    "df['date_time_format'] = df.date_time_format\n",
    "df['date_time_format'].value_counts()"
   ]
  },
  {
   "cell_type": "code",
   "execution_count": 25,
   "metadata": {},
   "outputs": [
    {
     "data": {
      "text/plain": [
       "Index(['거래id', '유형', '고객id', '코스ID', '사이트', '포맷', '카테고리', '코스(상품) 이름', '거래일자',\n",
       "       '쿠폰이름', '판매가격', '결제수단', '실거래금액', '쿠폰할인액', '거래금액', '환불금액', '거래월',\n",
       "       'date_time_format'],\n",
       "      dtype='object')"
      ]
     },
     "execution_count": 25,
     "metadata": {},
     "output_type": "execute_result"
    }
   ],
   "source": [
    "df.columns"
   ]
  },
  {
   "cell_type": "code",
   "execution_count": null,
   "metadata": {},
   "outputs": [],
   "source": []
  },
  {
   "cell_type": "code",
   "execution_count": null,
   "metadata": {},
   "outputs": [],
   "source": []
  },
  {
   "cell_type": "code",
   "execution_count": null,
   "metadata": {},
   "outputs": [],
   "source": []
  }
 ],
 "metadata": {
  "kernelspec": {
   "display_name": "yeardream",
   "language": "python",
   "name": "python3"
  },
  "language_info": {
   "codemirror_mode": {
    "name": "ipython",
    "version": 3
   },
   "file_extension": ".py",
   "mimetype": "text/x-python",
   "name": "python",
   "nbconvert_exporter": "python",
   "pygments_lexer": "ipython3",
   "version": "3.9.16"
  },
  "orig_nbformat": 4
 },
 "nbformat": 4,
 "nbformat_minor": 2
}
